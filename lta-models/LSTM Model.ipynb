{
 "cells": [
  {
   "cell_type": "code",
   "execution_count": 7,
   "id": "461650d2-950e-4d5f-bca9-0bdc3fc1df21",
   "metadata": {},
   "outputs": [
    {
     "name": "stderr",
     "output_type": "stream",
     "text": [
      "/opt/conda/lib/python3.10/site-packages/google/cloud/bigquery/table.py:2309: UserWarning: Unable to represent RANGE schema as struct using pandas ArrowDtype. Using `object` instead. To use ArrowDtype, use pandas >= 1.5 and pyarrow >= 10.0.1.\n",
      "  warnings.warn(_RANGE_PYARROW_WARNING)\n",
      "/opt/conda/lib/python3.10/site-packages/google/cloud/bigquery/table.py:2323: UserWarning: Unable to represent RANGE schema as struct using pandas ArrowDtype. Using `object` instead. To use ArrowDtype, use pandas >= 1.5 and pyarrow >= 10.0.1.\n",
      "  warnings.warn(_RANGE_PYARROW_WARNING)\n",
      "/opt/conda/lib/python3.10/site-packages/google/cloud/bigquery/table.py:2337: UserWarning: Unable to represent RANGE schema as struct using pandas ArrowDtype. Using `object` instead. To use ArrowDtype, use pandas >= 1.5 and pyarrow >= 10.0.1.\n",
      "  warnings.warn(_RANGE_PYARROW_WARNING)\n"
     ]
    }
   ],
   "source": [
    "from google.cloud import bigquery\n",
    "import pandas as pd\n",
    "\n",
    "client = bigquery.Client()\n",
    "\n",
    "QUERY = \"\"\"\n",
    "SELECT\n",
    "  timestamp,\n",
    "  CarParkID,\n",
    "  AvailableLots\n",
    "FROM `smart-car-park-availability-1.lta_data.view_carpark_availability`\n",
    "WHERE CarParkID IS NOT NULL\n",
    "ORDER BY CarParkID, timestamp\n",
    "\"\"\"\n",
    "df = client.query(QUERY).to_dataframe()"
   ]
  },
  {
   "cell_type": "code",
   "execution_count": 8,
   "id": "2bace3e3-82bd-415a-9942-bf9829dfd26a",
   "metadata": {},
   "outputs": [
    {
     "name": "stderr",
     "output_type": "stream",
     "text": [
      "/opt/conda/lib/python3.10/site-packages/keras/src/layers/rnn/rnn.py:204: UserWarning: Do not pass an `input_shape`/`input_dim` argument to a layer. When using Sequential models, prefer using an `Input(shape)` object as the first layer in the model instead.\n",
      "  super().__init__(**kwargs)\n"
     ]
    },
    {
     "name": "stdout",
     "output_type": "stream",
     "text": [
      "Epoch 1/10\n",
      "\u001b[1m35559/35559\u001b[0m \u001b[32m━━━━━━━━━━━━━━━━━━━━\u001b[0m\u001b[37m\u001b[0m \u001b[1m228s\u001b[0m 6ms/step - loss: 1618.2556 - mae: 8.9653 - val_loss: 6.2474 - val_mae: 1.4371\n",
      "Epoch 2/10\n",
      "\u001b[1m35559/35559\u001b[0m \u001b[32m━━━━━━━━━━━━━━━━━━━━\u001b[0m\u001b[37m\u001b[0m \u001b[1m226s\u001b[0m 6ms/step - loss: 6.5880 - mae: 1.1404 - val_loss: 4.7814 - val_mae: 0.9276\n",
      "Epoch 3/10\n",
      "\u001b[1m35559/35559\u001b[0m \u001b[32m━━━━━━━━━━━━━━━━━━━━\u001b[0m\u001b[37m\u001b[0m \u001b[1m227s\u001b[0m 6ms/step - loss: 5.3589 - mae: 1.0424 - val_loss: 5.0076 - val_mae: 1.0280\n",
      "Epoch 4/10\n",
      "\u001b[1m35559/35559\u001b[0m \u001b[32m━━━━━━━━━━━━━━━━━━━━\u001b[0m\u001b[37m\u001b[0m \u001b[1m228s\u001b[0m 6ms/step - loss: 4.9895 - mae: 1.0064 - val_loss: 5.4922 - val_mae: 1.0598\n",
      "Epoch 5/10\n",
      "\u001b[1m35559/35559\u001b[0m \u001b[32m━━━━━━━━━━━━━━━━━━━━\u001b[0m\u001b[37m\u001b[0m \u001b[1m228s\u001b[0m 6ms/step - loss: 5.3687 - mae: 1.0246 - val_loss: 5.1776 - val_mae: 1.3150\n",
      "Epoch 6/10\n",
      "\u001b[1m35559/35559\u001b[0m \u001b[32m━━━━━━━━━━━━━━━━━━━━\u001b[0m\u001b[37m\u001b[0m \u001b[1m229s\u001b[0m 6ms/step - loss: 5.4237 - mae: 1.0305 - val_loss: 4.3287 - val_mae: 0.9218\n",
      "Epoch 7/10\n",
      "\u001b[1m35559/35559\u001b[0m \u001b[32m━━━━━━━━━━━━━━━━━━━━\u001b[0m\u001b[37m\u001b[0m \u001b[1m230s\u001b[0m 6ms/step - loss: 5.1113 - mae: 1.0086 - val_loss: 4.3053 - val_mae: 0.8152\n",
      "Epoch 8/10\n",
      "\u001b[1m35559/35559\u001b[0m \u001b[32m━━━━━━━━━━━━━━━━━━━━\u001b[0m\u001b[37m\u001b[0m \u001b[1m230s\u001b[0m 6ms/step - loss: 4.6813 - mae: 0.9863 - val_loss: 4.4474 - val_mae: 0.9816\n",
      "Epoch 9/10\n",
      "\u001b[1m35559/35559\u001b[0m \u001b[32m━━━━━━━━━━━━━━━━━━━━\u001b[0m\u001b[37m\u001b[0m \u001b[1m229s\u001b[0m 6ms/step - loss: 5.0348 - mae: 0.9875 - val_loss: 4.4027 - val_mae: 1.0120\n",
      "Epoch 10/10\n",
      "\u001b[1m35559/35559\u001b[0m \u001b[32m━━━━━━━━━━━━━━━━━━━━\u001b[0m\u001b[37m\u001b[0m \u001b[1m261s\u001b[0m 6ms/step - loss: 4.7970 - mae: 0.9759 - val_loss: 4.1468 - val_mae: 0.8413\n"
     ]
    }
   ],
   "source": [
    "import numpy as np\n",
    "import pandas as pd\n",
    "import tensorflow as tf\n",
    "from tensorflow.keras.models import Sequential\n",
    "from tensorflow.keras.layers import LSTM, Dense\n",
    "from sklearn.model_selection import train_test_split\n",
    "\n",
    "# --- Load & preprocess ---\n",
    "grouped = df.groupby(\"CarParkID\")\n",
    "\n",
    "sequence_length = 10\n",
    "X, y = [], []\n",
    "\n",
    "for carpark_id, group in grouped:\n",
    "    group = group.sort_values(\"timestamp\")\n",
    "    values = group[\"AvailableLots\"].values\n",
    "    for i in range(len(values) - sequence_length):\n",
    "        input_seq = values[i:i + sequence_length]\n",
    "        label = values[i + sequence_length]  # Directly use next value as label\n",
    "        X.append(input_seq)\n",
    "        y.append(label)\n",
    "\n",
    "X = np.array(X, dtype=np.float32)\n",
    "y = np.array(y, dtype=np.float32)\n",
    "\n",
    "# Reshape for LSTM input\n",
    "X = X.reshape((X.shape[0], X.shape[1], 1))\n",
    "\n",
    "# Train-validation split\n",
    "X_train, X_val, y_train, y_val = train_test_split(X, y, test_size=0.2, random_state=42)\n",
    "\n",
    "# --- LSTM Model ---\n",
    "model = Sequential()\n",
    "model.add(LSTM(64, input_shape=(X.shape[1], X.shape[2]), return_sequences=False))\n",
    "model.add(Dense(1))\n",
    "\n",
    "model.compile(optimizer='adam', loss='mse', metrics=['mae'])\n",
    "\n",
    "# Train the model\n",
    "model.fit(X_train, y_train, validation_data=(X_val, y_val), epochs=10, batch_size=32)\n"
   ]
  },
  {
   "cell_type": "code",
   "execution_count": 14,
   "id": "eb1d9448-d03c-40d7-835a-ebdb367a92e2",
   "metadata": {},
   "outputs": [
    {
     "name": "stdout",
     "output_type": "stream",
     "text": [
      "\u001b[1m8890/8890\u001b[0m \u001b[32m━━━━━━━━━━━━━━━━━━━━\u001b[0m\u001b[37m\u001b[0m \u001b[1m28s\u001b[0m 3ms/step\n",
      "MAE: 0.86\n",
      "RMSE: 2.11\n"
     ]
    },
    {
     "name": "stderr",
     "output_type": "stream",
     "text": [
      "/var/tmp/ipykernel_4970/1759673065.py:11: RuntimeWarning: divide by zero encountered in divide\n",
      "  mape = (np.abs((y_true - y_pred) / y_true).mean()) * 100\n"
     ]
    }
   ],
   "source": [
    "# Predict on validation data\n",
    "y_pred = model.predict(X_val).flatten()  # Flatten to match shape of y_val\n",
    "y_true = y_val.flatten()  # Just to be explicit\n",
    "\n",
    "# Evaluate metrics\n",
    "from sklearn.metrics import mean_absolute_error, mean_squared_error\n",
    "import numpy as np\n",
    "\n",
    "mae = mean_absolute_error(y_true, y_pred)\n",
    "rmse = np.sqrt(mean_squared_error(y_true, y_pred))\n",
    "\n",
    "print(f\"MAE: {mae:.2f}\")\n",
    "print(f\"RMSE: {rmse:.2f}\")\n"
   ]
  },
  {
   "cell_type": "code",
   "execution_count": null,
   "id": "063027a5-b906-4066-ab01-5e8119d9d193",
   "metadata": {},
   "outputs": [],
   "source": [
    "\n",
    "# Save model to GCS\n",
    "model.save(\"gs://prediction_models_x/models_lstm_model_x1.keras\")"
   ]
  }
 ],
 "metadata": {
  "environment": {
   "kernel": "python3",
   "name": "tf2-gpu.2-17.m128",
   "type": "gcloud",
   "uri": "us-docker.pkg.dev/deeplearning-platform-release/gcr.io/tf2-gpu.2-17:m128"
  },
  "kernelspec": {
   "display_name": "Python 3 (Local)",
   "language": "python",
   "name": "python3"
  },
  "language_info": {
   "codemirror_mode": {
    "name": "ipython",
    "version": 3
   },
   "file_extension": ".py",
   "mimetype": "text/x-python",
   "name": "python",
   "nbconvert_exporter": "python",
   "pygments_lexer": "ipython3",
   "version": "3.10.16"
  }
 },
 "nbformat": 4,
 "nbformat_minor": 5
}
